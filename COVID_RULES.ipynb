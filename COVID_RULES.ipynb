{
 "cells": [
  {
   "cell_type": "code",
   "execution_count": 13,
   "metadata": {},
   "outputs": [],
   "source": [
    "#Each rule could have one or more arguments\n",
    "class argument:\n",
    "    def __init__(self,varname,symbol,varval): #For example if age>45 has varname=\"age\",symbol=\">\",varval=\"45\"\n",
    "        self.varname=varname\n",
    "        self.symbol=symbol\n",
    "        self.varval=varval   #must have str here because if the values are integers error will occur"
   ]
  },
  {
   "cell_type": "code",
   "execution_count": 35,
   "metadata": {},
   "outputs": [],
   "source": [
    "#Rule class\n",
    "class rule:\n",
    "    def __init__(self,lst,resultvarname,resultvarvalue,accuracy,coverage):     \n",
    "        #lst:lst of argument classes\n",
    "        #resultvarname:The name of the target value \n",
    "        #resultvarvalue:The result\n",
    "        #accuracy:accuracy\n",
    "        #coverage:coverage\n",
    "        self.arguments=lst\n",
    "        self.resultvarname=resultvarname\n",
    "        self.resultvarvalue=resultvarvalue\n",
    "        self.accuracy=accuracy\n",
    "        self.coverage=coverage\n",
    "    def printrule(self):         #print the rule\n",
    "        if(len(self.arguments)==1):\n",
    "            arg=self.arguments[0]\n",
    "            print(\"If \"+arg.varname+arg.symbol+str(arg.varval)+\" then \"+self.resultvarname+\"=\"+self.resultvarvalue,end=\" \")\n",
    "        elif(len(self.arguments)>1):\n",
    "            print(\"If \",end=\"\")\n",
    "            for i in range(len(self.arguments)-1):\n",
    "                arg=self.arguments[i]\n",
    "                print(arg.varname+arg.symbol+str(arg.varval)+\" and \",end=\"\")\n",
    "            arg=self.arguments[len(self.arguments)-1]\n",
    "            print(arg.varname+arg.symbol+str(arg.varval)+\" then \"+self.resultvarname+\"=\"+self.resultvarvalue,end=\" \")\n",
    "        print(\"with accuracy=\"+str(self.accuracy)+\" and coverage=\"+str(self.coverage))"
   ]
  },
  {
   "cell_type": "code",
   "execution_count": 36,
   "metadata": {},
   "outputs": [],
   "source": [
    "def convertintoclass(rules,data_names):\n",
    "    for Rule in rules:\n",
    "        rulelst=[]\n",
    "        for arg in Rule:\n",
    "            rulelst.append(argument(data_names[arg[0][0]],arg[0][1],arg[0][2]))\n",
    "        thisrule=rule(rulelst,data_names[-1],Rule[-1][0][3],Rule[-1][1],Rule[-1][2])\n",
    "        thisrule.printrule()"
   ]
  },
  {
   "cell_type": "code",
   "execution_count": 1,
   "metadata": {},
   "outputs": [],
   "source": [
    "def findargument(data,possible_moves,accuracy_threshold,coverage_threshold):\n",
    "    existsargument=False\n",
    "    totaldata=len(data)\n",
    "    maxaccuracy=-1         #Max accuracy\n",
    "    maxcoverage=-1\n",
    "    bestmove=[-1,-1,-1,-1]\n",
    "    for moves in possible_moves:\n",
    "        varindex=moves[0]\n",
    "        operation=moves[1]\n",
    "        operationval=moves[2]\n",
    "        res=moves[3]\n",
    "        count=0      #Counts the amount of data following the condition(coverage)\n",
    "        followcount=0#Counts the amount of data following the rule\n",
    "        for row in data:\n",
    "            if(operation==\"=\"):\n",
    "                if(row[varindex]==operationval):\n",
    "                    count+=1\n",
    "                    if(row[-1]==res):\n",
    "                        followcount+=1\n",
    "            elif(operation==\">\"):\n",
    "                if(row[varindex]>operationval):\n",
    "                    count+=1\n",
    "                    if(row[-1]==res):\n",
    "                        followcount+=1\n",
    "            elif(operation==\"<\"):\n",
    "                if(row[varindex]<operationval):\n",
    "                    count+=1\n",
    "                    if(row[-1]==res):\n",
    "                        followcount+=1\n",
    "        if(count!=0):\n",
    "            accuracy=followcount/count\n",
    "            if(count>=coverage_threshold and accuracy>=accuracy_threshold):  #The rules that pass the accuracy and coverage threshold\n",
    "                if(accuracy>maxaccuracy):   #Go for max accuracy\n",
    "                    maxaccuracy=accuracy\n",
    "                    maxcoverage=count\n",
    "                    bestmove=moves\n",
    "                elif(accuracy==maxaccuracy and count>maxcoverage):   #Go for better coverage if the accuracy is the same\n",
    "                    maxaccuracy=accuracy\n",
    "                    maxcoverage=count\n",
    "                    bestmove=moves\n",
    "    return [bestmove,maxaccuracy,maxcoverage]"
   ]
  },
  {
   "cell_type": "code",
   "execution_count": 44,
   "metadata": {},
   "outputs": [],
   "source": [
    "def findrule(data,possible_moves,accuracy_threshold,coverage_threshold):\n",
    "    ruleargs=[]\n",
    "    accuracy=100\n",
    "    coverage=len(data)\n",
    "    arg=[[]]\n",
    "    while arg[0]!=[-1,-1,-1,-1]:\n",
    "        arg=findargument(data,possible_moves,accuracy_threshold,coverage_threshold)   #Find optimal argument\n",
    "        if(arg[0]!=[-1,-1,-1,-1]):\n",
    "            ruleargs.append(arg)\n",
    "            if(arg[1]==1):\n",
    "                return ruleargs    #If accuracy is 1, no need to improve\n",
    "            possible_moves_copy=[]\n",
    "            data_copy=[]\n",
    "            for moves in possible_moves:\n",
    "                if(moves[0]!=arg[0][0]):\n",
    "                    possible_moves_copy.append(moves)\n",
    "            for rows in data:\n",
    "                if(arg[0][1]==\"=\" and rows[arg[0][0]]==arg[0][2]):\n",
    "                    data_copy.append(rows)\n",
    "                if(arg[0][1]==\">\" and rows[arg[0][0]]>arg[0][2]):\n",
    "                    data_copy.append(rows)\n",
    "                if(arg[0][1]==\"<\" and rows[arg[0][0]]<arg[0][2]):\n",
    "                    data_copy.append(rows)\n",
    "            data=data_copy\n",
    "            possible_moves=possible_moves_copy\n",
    "    return ruleargs"
   ]
  },
  {
   "cell_type": "code",
   "execution_count": 45,
   "metadata": {},
   "outputs": [],
   "source": [
    "def prism(data,data_names,accuracy_threshold,coverage_threshold):\n",
    "    prism_rules=[]\n",
    "    rule=[]\n",
    "    first=True\n",
    "    while rule!=[] or first==True:\n",
    "        first=False\n",
    "        possible_outcomes=[]\n",
    "        possible_moves=[]\n",
    "        for i in data:\n",
    "            if(i[-1] not in possible_outcomes):\n",
    "                possible_outcomes.append(i[-1])\n",
    "        for j in range(len(data[0])-1):\n",
    "            for i in range(len(data)):\n",
    "                val=data[i][j]\n",
    "                for k in possible_outcomes:\n",
    "                    if(type(data[i][j]) is int):\n",
    "                        if ([j,\">\",data[i][j]] not in possible_moves):\n",
    "                            possible_moves.append([j,\">\",data[i][j],k])\n",
    "                            possible_moves.append([j,\"<\",data[i][j],k])\n",
    "                            possible_moves.append([j,\"=\",data[i][j],k]) #I chose this for integer because it seems the easiest and there is no problem\n",
    "                    else:\n",
    "                        if ([j,\"=\",data[i][j]] not in possible_moves):\n",
    "                            possible_moves.append([j,\"=\",data[i][j],k])\n",
    "        rule=[]\n",
    "        rule=findrule(data,possible_moves,accuracy_threshold,coverage_threshold)\n",
    "        if(rule!=[]):\n",
    "            prism_rules.append(rule)\n",
    "        data_copy=[]\n",
    "        for rows in data:\n",
    "            Pass=True\n",
    "            for args in rule:\n",
    "                if(args[0][1]==\"=\"):\n",
    "                    if(rows[args[0][0]]==args[0][2]):\n",
    "                        Pass=False\n",
    "                elif(args[0][1]==\">\"):\n",
    "                    if(rows[args[0][0]]>args[0][2]):\n",
    "                        Pass=False\n",
    "                elif(args[0][1]==\"<\"):\n",
    "                    if(rows[args[0][0]]<args[0][2]):\n",
    "                        Pass=False\n",
    "            if Pass is True:\n",
    "                data_copy.append(rows)\n",
    "        data=data_copy\n",
    "    convertintoclass(prism_rules,data_names)"
   ]
  },
  {
   "cell_type": "code",
   "execution_count": 46,
   "metadata": {},
   "outputs": [
    {
     "name": "stdout",
     "output_type": "stream",
     "text": [
      "If Outlook=Overcast then Play=Yes with accuracy=1.0 and coverage=4\n",
      "If Temp=Hot then Play=No with accuracy=1.0 and coverage=2\n",
      "If Humidity=Normal and Windy=False then Play=Yes with accuracy=1.0 and coverage=3\n"
     ]
    }
   ],
   "source": [
    "data_file=\"../data_ml_2020/weather.csv\"\n",
    "import pandas as pd\n",
    "data=pd.read_csv(data_file)\n",
    "dataname=data.columns\n",
    "data_rows = data.to_numpy().tolist()\n",
    "prism(data_rows,dataname,0.8,2)"
   ]
  },
  {
   "cell_type": "code",
   "execution_count": 47,
   "metadata": {},
   "outputs": [
    {
     "name": "stdout",
     "output_type": "stream",
     "text": [
      "If age>=55 and diabetes=Yes then survive=false with accuracy=0.8 and coverage=100\n"
     ]
    }
   ],
   "source": [
    "#Test for printrule\n",
    "Rule=rule([argument(\"age\",\">\",55),argument(\"diabetes\",\"=\",\"Yes\")],\"survive\",\"false\",0.8,100)\n",
    "Rule.printrule()"
   ]
  }
 ],
 "metadata": {
  "kernelspec": {
   "display_name": "Python 3",
   "language": "python",
   "name": "python3"
  },
  "language_info": {
   "codemirror_mode": {
    "name": "ipython",
    "version": 3
   },
   "file_extension": ".py",
   "mimetype": "text/x-python",
   "name": "python",
   "nbconvert_exporter": "python",
   "pygments_lexer": "ipython3",
   "version": "3.8.3"
  }
 },
 "nbformat": 4,
 "nbformat_minor": 4
}
